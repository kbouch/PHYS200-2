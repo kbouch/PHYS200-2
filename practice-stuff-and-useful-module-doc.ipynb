{
 "metadata": {
  "name": "practice stuff and useful module doc"
 }, 
 "nbformat": 2, 
 "worksheets": [
  {
   "cells": [
    {
     "cell_type": "code", 
     "collapsed": false, 
     "input": [
      "import math", 
      "print math", 
      "math =2", 
      "print math", 
      "#if you import the math module, don't use it as a variable name too"
     ], 
     "language": "python", 
     "outputs": [
      {
       "output_type": "stream", 
       "stream": "stdout", 
       "text": [
        "&lt;module &apos;math&apos; from &apos;/home/kyle/Downloads/epd-7.2-2-rh5-x86/lib/python2.7/lib-dynload/math.so&apos;&gt;", 
        "2"
       ]
      }
     ], 
     "prompt_number": 4
    }, 
    {
     "cell_type": "code", 
     "collapsed": false, 
     "input": [
      "def doTwice(f,a):", 
      "    f(a)", 
      "    f(a)", 
      "def doFour(f,a):", 
      "    doTwice(f,a)", 
      "def spam(a):", 
      "    print str(a)", 
      "word = 'spam'", 
      "doFour(spam,word)"
     ], 
     "language": "python", 
     "outputs": [
      {
       "output_type": "stream", 
       "stream": "stdout", 
       "text": [
        "spam", 
        "spam"
       ]
      }
     ], 
     "prompt_number": 10
    }, 
    {
     "cell_type": "code", 
     "collapsed": true, 
     "input": [
      "# string methods. most must use assignment to update", 
      "import string", 
      "string.punctuation?", 
      "string.whitespace?", 
      "word = 'octopus'", 
      "word.partition?", 
      "#word.format?", 
      "#word.strip?", 
      "#word.partition?", 
      "#word.replace?", 
      "word.split?", 
      "#word.find?", 
      "#word.join?"
     ], 
     "language": "python", 
     "outputs": [], 
     "prompt_number": 2
    }, 
    {
     "cell_type": "code", 
     "collapsed": false, 
     "input": [
      "a = [1,2,3,4,5,6]", 
      "b = 'cranberry'", 
      "print list(b)", 
      "print b", 
      "b = list(b)", 
      "print b"
     ], 
     "language": "python", 
     "outputs": [
      {
       "output_type": "stream", 
       "stream": "stdout", 
       "text": [
        "[&apos;c&apos;, &apos;r&apos;, &apos;a&apos;, &apos;n&apos;, &apos;b&apos;, &apos;e&apos;, &apos;r&apos;, &apos;r&apos;, &apos;y&apos;]", 
        "cranberry", 
        "[&apos;c&apos;, &apos;r&apos;, &apos;a&apos;, &apos;n&apos;, &apos;b&apos;, &apos;e&apos;, &apos;r&apos;, &apos;r&apos;, &apos;y&apos;]"
       ]
      }
     ], 
     "prompt_number": 49
    }, 
    {
     "cell_type": "code", 
     "collapsed": true, 
     "input": [
      "import math", 
      "", 
      "b = a + 13 +(math.floor((a+13)/122.0)))(-(13+a)+96+((a+13)-122))"
     ], 
     "language": "python", 
     "outputs": [], 
     "prompt_number": 50
    }, 
    {
     "cell_type": "code", 
     "collapsed": true, 
     "input": [
      "import random", 
      "random?", 
      "random.random?", 
      "random.randint?"
     ], 
     "language": "python", 
     "outputs": [], 
     "prompt_number": 3
    }, 
    {
     "cell_type": "code", 
     "collapsed": true, 
     "input": [
      "# lists zipped into list of tuples", 
      "zip?"
     ], 
     "language": "python", 
     "outputs": [], 
     "prompt_number": 1
    }, 
    {
     "cell_type": "code", 
     "collapsed": true, 
     "input": [
      "enumerate?"
     ], 
     "language": "python", 
     "outputs": [], 
     "prompt_number": 2
    }, 
    {
     "cell_type": "code", 
     "collapsed": true, 
     "input": [
      "d={'a':1,'b':2,'c':3}", 
      "t=d.items?"
     ], 
     "language": "python", 
     "outputs": [], 
     "prompt_number": 5
    }, 
    {
     "cell_type": "code", 
     "collapsed": true, 
     "input": [
      "# reading files", 
      "fin = open('words.txt')", 
      "open?", 
      "#fin.readline?"
     ], 
     "language": "python", 
     "outputs": [], 
     "prompt_number": 11
    }, 
    {
     "cell_type": "code", 
     "collapsed": true, 
     "input": [
      "file.__doc__?"
     ], 
     "language": "python", 
     "outputs": [], 
     "prompt_number": 12
    }, 
    {
     "cell_type": "code", 
     "collapsed": true, 
     "input": [], 
     "language": "python", 
     "outputs": [], 
     "prompt_number": 17
    }, 
    {
     "cell_type": "code", 
     "collapsed": true, 
     "input": [
      "# list methods. most are done in-place", 
      "t = ['','hi','']", 
      "t.pop?", 
      "t.remove?", 
      "newlist = list('hello')", 
      "print newlist", 
      "newlist.sort?"
     ], 
     "language": "python", 
     "outputs": [], 
     "prompt_number": 15
    }, 
    {
     "cell_type": "code", 
     "collapsed": true, 
     "input": [
      "import os", 
      "#os.path.abspath?", 
      "#os.path.exists?", 
      "#os.path.isdir?", 
      "#os.path.isfile?", 
      "#os.getcwd?", 
      "#os.listdir?", 
      "#os.chdir?", 
      "#os.mkdir?", 
      "#os.walk?"
     ], 
     "language": "python", 
     "outputs": [], 
     "prompt_number": 20
    }, 
    {
     "cell_type": "code", 
     "collapsed": false, 
     "input": [
      "# dictionaries", 
      "newdict = dict()", 
      "newdict.keys?", 
      "newdict.values?", 
      "newdict.get?", 
      "#newdict.setdefault?", 
      "newdict.setdefault('color',[]).append('orange') # done in-place", 
      "", 
      "print newdict", 
      "", 
      "anotherdict = {}", 
      "anotherdict['dinosaur'] = ['t-rex']", 
      "print anotherdict"
     ], 
     "language": "python", 
     "outputs": [
      {
       "output_type": "stream", 
       "stream": "stdout", 
       "text": [
        "{&apos;color&apos;: [&apos;orange&apos;]}", 
        "{&apos;dinosaur&apos;: [&apos;t-rex&apos;]}"
       ]
      }
     ], 
     "prompt_number": 10
    }, 
    {
     "cell_type": "code", 
     "collapsed": false, 
     "input": [
      "# objects", 
      "class room(object):", 
      "    \"\"\"three dimentional box\"\"\"", 
      "fremont318 = room()", 
      "fremont318.x = 18", 
      "fremont318.y = 10", 
      "fremont318.z = 9", 
      "import copy", 
      "copy.copy?", 
      "copy.deepcopy?", 
      "hasattr?", 
      "print hasattr(fremont318, 'z')", 
      "print hasattr(fremont318, 'color')"
     ], 
     "language": "python", 
     "outputs": [
      {
       "output_type": "stream", 
       "stream": "stdout", 
       "text": [
        "True", 
        "False"
       ]
      }
     ], 
     "prompt_number": 5
    }, 
    {
     "cell_type": "code", 
     "collapsed": true, 
     "input": [
      "from mayavi import mlab", 
      "mlab.points3d?"
     ], 
     "language": "python", 
     "outputs": [], 
     "prompt_number": 1
    }, 
    {
     "cell_type": "code", 
     "collapsed": false, 
     "input": [
      "from mayavi import mlab", 
      "import numpy as np", 
      "import random", 
      "xcoords = []", 
      "ycoords = []", 
      "zcoords = []", 
      "for i in range(10): ", 
      "    (x,y,z) = (random.randint(0,25),random.randint(0,25),random.randint(0,25))", 
      "    xcoords.append(x)", 
      "    ycoords.append(y)", 
      "    zcoords.append(z)", 
      "xarr = np.array(xcoords,dtype=float)", 
      "yarr = np.array(ycoords,dtype=float)", 
      "zarr = np.array(zcoords,dtype=float)", 
      "#opacitylist = []", 
      "#colorlist = []", 
      "#for val in xarr:", 
      "#    opacitylist.append(0.5)", 
      "#    colorlist.append((0.8,0.2,0.5))", 
      "#opacityarr = np.array(opacitylist,dtype=float)", 
      "#colorarr = np.array(colorlist,dtype=float)", 
      "mlab.points3d(xarr,yarr,zarr,opacity=0.5,color=(0.2,0.2,0.5))"
     ], 
     "language": "python", 
     "outputs": [
      {
       "output_type": "pyout", 
       "prompt_number": 5, 
       "text": [
        "&lt;mayavi.modules.glyph.Glyph at 0xdc54a7c&gt;"
       ]
      }
     ], 
     "prompt_number": 5
    }, 
    {
     "cell_type": "code", 
     "collapsed": true, 
     "input": [
      "import numpy as np", 
      "np.array?"
     ], 
     "language": "python", 
     "outputs": [], 
     "prompt_number": 8
    }, 
    {
     "cell_type": "code", 
     "collapsed": true, 
     "input": [], 
     "language": "python", 
     "outputs": [], 
     "prompt_number": "&nbsp;"
    }, 
    {
     "cell_type": "code", 
     "collapsed": true, 
     "input": [], 
     "language": "python", 
     "outputs": [], 
     "prompt_number": "&nbsp;"
    }, 
    {
     "cell_type": "code", 
     "collapsed": true, 
     "input": [], 
     "language": "python", 
     "outputs": [], 
     "prompt_number": 7
    }, 
    {
     "cell_type": "code", 
     "collapsed": true, 
     "input": [], 
     "language": "python", 
     "outputs": [], 
     "prompt_number": "&nbsp;"
    }
   ]
  }
 ]
}