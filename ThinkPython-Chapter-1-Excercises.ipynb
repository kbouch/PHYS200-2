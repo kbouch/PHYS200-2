{
 "metadata": {
  "name": "ThinkPython-Chapter-1-Excercises"
 }, 
 "nbformat": 2, 
 "worksheets": [
  {
   "cells": [
    {
     "cell_type": "code", 
     "collapsed": false, 
     "input": [
      "# >>>I am using Python 2.7, so print is a statement, and does not need parentheses. ", 
      "print 'Hello World'", 
      "# In Python 3.2, I would have to use>>> print('Hello World')", 
      "# I can also use double-tick quote marks to define Hello World as a string.", 
      "print \"Hello World\"", 
      "#spaces or indents at the front of a line will cause problems becuase they have significance (such as in the body of function definitions)", 
      "#    print 'Hello World'     (<--can't have spaces in front of print statement)"
     ], 
     "language": "python", 
     "outputs": [
      {
       "output_type": "stream", 
       "stream": "stdout", 
       "text": [
        "Hello World", 
        "Hello World"
       ]
      }
     ], 
     "prompt_number": 2
    }, 
    {
     "cell_type": "code", 
     "collapsed": false, 
     "input": [
      "#>>>Ex 1.3", 
      "help('print')"
     ], 
     "language": "python", 
     "outputs": [
      {
       "output_type": "stream", 
       "stream": "stdout", 
       "text": [
        "The &#96;&#96;print&#96;&#96; statement", 
        "***********************", 
        "", 
        "   print_stmt ::= &quot;print&quot; ([expression (&quot;,&quot; expression)* [&quot;,&quot;]]", 
        "                  | &quot;&gt;&gt;&quot; expression [(&quot;,&quot; expression)+ [&quot;,&quot;]])", 
        "", 
        "&#96;&#96;print&#96;&#96; evaluates each expression in turn and writes the resulting", 
        "object to standard output (see below).  If an object is not a string,", 
        "it is first converted to a string using the rules for string", 
        "conversions.  The (resulting or original) string is then written.  A", 
        "space is written before each object is (converted and) written, unless", 
        "the output system believes it is positioned at the beginning of a", 
        "line.  This is the case (1) when no characters have yet been written", 
        "to standard output, (2) when the last character written to standard", 
        "output is a whitespace character except &#96;&#96;&apos; &apos;&#96;&#96;, or (3) when the last", 
        "write operation on standard output was not a &#96;&#96;print&#96;&#96; statement. (In", 
        "some cases it may be functional to write an empty string to standard", 
        "output for this reason.)", 
        "", 
        "Note: Objects which act like file objects but which are not the built-in", 
        "  file objects often do not properly emulate this aspect of the file", 
        "  object&apos;s behavior, so it is best not to rely on this.", 
        "", 
        "A &#96;&#96;&apos;\\n&apos;&#96;&#96; character is written at the end, unless the &#96;&#96;print&#96;&#96;", 
        "statement ends with a comma.  This is the only action if the statement", 
        "contains just the keyword &#96;&#96;print&#96;&#96;.", 
        "", 
        "Standard output is defined as the file object named &#96;&#96;stdout&#96;&#96; in the", 
        "built-in module &#96;&#96;sys&#96;&#96;.  If no such object exists, or if it does not", 
        "have a &#96;&#96;write()&#96;&#96; method, a &#96;&#96;RuntimeError&#96;&#96; exception is raised.", 
        "", 
        "&#96;&#96;print&#96;&#96; also has an extended form, defined by the second portion of", 
        "the syntax described above. This form is sometimes referred to as", 
        "&quot;&#96;&#96;print&#96;&#96; chevron.&quot; In this form, the first expression after the", 
        "&#96;&#96;&gt;&gt;&#96;&#96; must evaluate to a &quot;file-like&quot; object, specifically an object", 
        "that has a &#96;&#96;write()&#96;&#96; method as described above.  With this extended", 
        "form, the subsequent expressions are printed to this file object.  If", 
        "the first expression evaluates to &#96;&#96;None&#96;&#96;, then &#96;&#96;sys.stdout&#96;&#96; is", 
        "used as the file for output.", 
        ""
       ]
      }
     ], 
     "prompt_number": 3
    }, 
    {
     "cell_type": "code", 
     "collapsed": false, 
     "input": [
      "#>>>Ex 1.4", 
      "#If you run a 10 kilometer race in 43 minutes 30 seconds, what is your average time per mile? What", 
      "#is your average speed in miles per hour? (Hint: there are 1.61 kilometers in a mile).", 
      "# total time in hours (I must make sure to use float division instead of floor division by", 
      "# including a decimal in one of the numbers)", 
      "t = (43/60.0)+(30/3600.0)", 
      "# total distance converted to miles", 
      "d = 10/1.61", 
      "# average speed in miles per hour", 
      "s = d/t", 
      "# time elapsed in one mile (average)", 
      "time = 1.0*(1/s)", 
      "print str(time)+' hours'", 
      "print 'or '+str(time*60)+' minutes'"
     ], 
     "language": "python", 
     "outputs": [
      {
       "output_type": "stream", 
       "stream": "stdout", 
       "text": [
        "0.116725 hours", 
        "or 7.0035 minutes"
       ]
      }
     ], 
     "prompt_number": 7
    }, 
    {
     "cell_type": "code", 
     "collapsed": true, 
     "input": [], 
     "language": "python", 
     "outputs": [], 
     "prompt_number": "&nbsp;"
    }
   ]
  }
 ]
}