{
 "metadata": {
  "name": "ThinkPython-Chapter-1-Excercises"
 }, 
 "nbformat": 2, 
 "worksheets": [
  {
   "cells": [
    {
     "cell_type": "code", 
     "collapsed": false, 
     "input": [
      "# I am using Python 2.7, so print is a statement, and does not need parentheses. ", 
      "print 'Hello World'", 
      "# In Python 3.2, I would have to use>>> print('Hello World')", 
      "# I can also use double-tick quote marks to define Hello World as a string.", 
      "print \"Hello World\"", 
      "#spaces or indents at the front of a line will cause problems becuase they have significance (such as in the body of function definitions)", 
      "#    print 'Hello World'     (<--can't have spaces in front of print statement)"
     ], 
     "language": "python", 
     "outputs": [
      {
       "output_type": "stream", 
       "stream": "stdout", 
       "text": [
        "Hello World", 
        "Hello World"
       ]
      }
     ], 
     "prompt_number": 2
    }, 
    {
     "cell_type": "code", 
     "collapsed": true, 
     "input": [], 
     "language": "python", 
     "outputs": [], 
     "prompt_number": "&nbsp;"
    }
   ]
  }
 ]
}