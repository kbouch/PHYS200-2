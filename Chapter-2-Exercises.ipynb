{
 "metadata": {
  "name": "Chapter-2-Exercises"
 }, 
 "nbformat": 2, 
 "worksheets": [
  {
   "cells": [
    {
     "cell_type": "code", 
     "collapsed": false, 
     "input": [
      "#>>>the type() function examples", 
      "print type('hello world')", 
      "print type(25)", 
      "print type(25.00)", 
      "print type(math.pi)", 
      "print type(0.00000000000858)", 
      "", 
      "", 
      ""
     ], 
     "language": "python", 
     "outputs": [
      {
       "output_type": "stream", 
       "stream": "stdout", 
       "text": [
        "&lt;type &apos;str&apos;&gt;", 
        "&lt;type &apos;int&apos;&gt;", 
        "&lt;type &apos;float&apos;&gt;", 
        "&lt;type &apos;float&apos;&gt;"
       ]
      }
     ], 
     "prompt_number": 2
    }, 
    {
     "cell_type": "code", 
     "collapsed": false, 
     "input": [
      "#>>>Ex 2.1: Can you figure out what is going on? Hint: print the values 01, 010, 0100 and 01000.", 
      "print 0100", 
      "", 
      "#I can't use an integer starting with 0  because python 2.7 thinks it is an octal, with place value", 
      "#representing (8**n) to be added to the total of the number. The rightmost digit is for (8**0).", 
      "print 01010 #should give 520", 
      "print 020", 
      "print 030 # if the digits are not 1, they indicate that that power of 8 is added to the total of the", 
      "#number, and then multiplies the power of 8", 
      "#one would think that", 
      "print 0100000000 # is the same as", 
      "#print 080000000 , but I get an error if I use a digit greater than 7"
     ], 
     "language": "python", 
     "outputs": [
      {
       "output_type": "stream", 
       "stream": "stdout", 
       "text": [
        "64", 
        "520", 
        "16", 
        "24", 
        "16777216"
       ]
      }
     ], 
     "prompt_number": 20
    }, 
    {
     "cell_type": "code", 
     "collapsed": false, 
     "input": [
      "#>>>Ex 2.1 Assume that we execute the following assignment statements:", 
      "width = 17", 
      "height = 12.0", 
      "delimiter = '.'", 
      "#For each of the following expressions, write the value of the expression and the type (of the value of", 
      "#the expression).", 
      "#1. width/2 = 8", 
      "#2. width/2.0 = 8.5", 
      "#3. height/3 = 4.0", 
      "#4. 1 + 2 * 5 = 11", 
      "#5. delimiter * 5 = '.....'", 
      "#Use the Python interpreter to check your answers.", 
      "print width/2", 
      "print width/2.0", 
      "print height/3", 
      "print 1 + 2 * 5", 
      "print delimiter * 5"
     ], 
     "language": "python", 
     "outputs": [
      {
       "output_type": "stream", 
       "stream": "stdout", 
       "text": [
        "8", 
        "8.5", 
        "4.0", 
        "11", 
        "....."
       ]
      }
     ], 
     "prompt_number": 4
    }, 
    {
     "cell_type": "code", 
     "collapsed": true, 
     "input": [], 
     "language": "python", 
     "outputs": [], 
     "prompt_number": "&nbsp;"
    }
   ]
  }
 ]
}