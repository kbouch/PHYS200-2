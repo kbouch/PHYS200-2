{
 "metadata": {
  "name": "Chapter-3-Excerciese"
 }, 
 "nbformat": 2, 
 "worksheets": [
  {
   "cells": [
    {
     "cell_type": "code", 
     "collapsed": false, 
     "input": [
      "#Functions I've already seen", 
      "#type functions", 
      "color = 'yellow'", 
      "age = 19", 
      "height = ((12**3)+2.4)/100.0", 
      "print 'variable types'", 
      "print type(color), type(age), type(height)"
     ], 
     "language": "python", 
     "outputs": [
      {
       "output_type": "stream", 
       "stream": "stdout", 
       "text": [
        "variable types", 
        "&lt;type &apos;str&apos;&gt; &lt;type &apos;int&apos;&gt; &lt;type &apos;float&apos;&gt;"
       ]
      }
     ], 
     "prompt_number": 5
    }, 
    {
     "cell_type": "code", 
     "collapsed": false, 
     "input": [
      "#To use the math module functions, import math and use dot notation:", 
      "import math", 
      "print 'pi =',math.pi", 
      "radians = math.asin(1/(math.sqrt(2))) # AHA!, so arcsin(x) is math.asin", 
      "degrees = radians*(180/math.pi)", 
      "print radians,'radians =',degrees,'degrees'"
     ], 
     "language": "python", 
     "outputs": [
      {
       "output_type": "stream", 
       "stream": "stdout", 
       "text": [
        "pi = 3.14159265359", 
        "0.785398163397 radians = 45.0 degrees"
       ]
      }
     ], 
     "prompt_number": 17
    }, 
    {
     "cell_type": "code", 
     "collapsed": false, 
     "input": [
      "#>>>Ex 3.1 def print_lyrics():", 
      "#Move the last line of this program to the top, so the function call appears before the", 
      "#definitions. Run the program and see what error message you get.", 
      "", 
      "repeat_lyrics()", 
      "def print_lyrics():", 
      "    print \"I'm a lumberjack, and I'm okay.\"", 
      "    print \"I sleep all night and I work all day.\"", 
      "", 
      "def repeat_lyrics():", 
      "    print_lyrics()", 
      "    print_lyrics()"
     ], 
     "language": "python", 
     "outputs": [
      {
       "ename": "NameError", 
       "evalue": "name 'repeat_lyrics' is not defined", 
       "output_type": "pyerr", 
       "traceback": [
        "<span class=\"ansired\">---------------------------------------------------------------------------</span>\n<span class=\"ansired\">NameError</span>                                 Traceback (most recent call last)", 
        "<span class=\"ansigreen\">/home/kyle/PHYS200-2/&lt;ipython-input-1-d0350054a57e&gt;</span> in <span class=\"ansicyan\">&lt;module&gt;</span><span class=\"ansiblue\">()</span>\n<span class=\"ansigreen\">      3</span> <span class=\"ansired\">#definitions. Run the program and see what error message you get.</span>\n<span class=\"ansiyellow\"></span>\n<span class=\"ansigreen\">      4</span> <span class=\"ansiyellow\"></span>\n<span class=\"ansigreen\">----&gt; 5</span><span class=\"ansiyellow\"> </span>repeat_lyrics<span class=\"ansiyellow\">(</span><span class=\"ansiyellow\">)</span><span class=\"ansiyellow\"></span>\n<span class=\"ansigreen\">      6</span> <span class=\"ansigreen\">def</span> print_lyrics<span class=\"ansiyellow\">(</span><span class=\"ansiyellow\">)</span><span class=\"ansiyellow\">:</span><span class=\"ansiyellow\"></span>\n<span class=\"ansigreen\">      7</span>     <span class=\"ansigreen\">print</span> <span class=\"ansiblue\">&quot;I&apos;m a lumberjack, and I&apos;m okay.&quot;</span><span class=\"ansiyellow\"></span>\n", 
        "<span class=\"ansired\">NameError</span>: name &apos;repeat_lyrics&apos; is not defined"
       ]
      }
     ], 
     "prompt_number": 1
    }, 
    {
     "cell_type": "code", 
     "collapsed": false, 
     "input": [
      "#>>>Ex 3.2", 
      "#Move the function call back to the bottom and move the definition of print_lyrics", 
      "#after the definition of repeat_lyrics. What happens when you run this program?", 
      "", 
      "", 
      "def repeat_lyrics():", 
      "    print_lyrics()", 
      "    print_lyrics()", 
      "    ", 
      "def print_lyrics():", 
      "    print \"I'm a lumberjack, and I'm okay.\"", 
      "    print \"I sleep all night and I work all day.\"", 
      "", 
      "repeat_lyrics()", 
      "#The order of the definitions doesn't matter, as long as you define each function before using it"
     ], 
     "language": "python", 
     "outputs": [
      {
       "output_type": "stream", 
       "stream": "stdout", 
       "text": [
        "I&apos;m a lumberjack, and I&apos;m okay.", 
        "I sleep all night and I work all day.", 
        "I&apos;m a lumberjack, and I&apos;m okay.", 
        "I sleep all night and I work all day."
       ]
      }
     ], 
     "prompt_number": 2
    }, 
    {
     "cell_type": "code", 
     "collapsed": false, 
     "input": [
      "#>>>Ex 3.3", 
      "def right_justify(s):", 
      "    l = len(str(s))", 
      "    spaces = 70-l", 
      "    print (' '*spaces)+str(s)", 
      "", 
      "right_justify('allen')"
     ], 
     "language": "python", 
     "outputs": [
      {
       "output_type": "stream", 
       "stream": "stdout", 
       "text": [
        "                                                                 allen"
       ]
      }
     ], 
     "prompt_number": 3
    }, 
    {
     "cell_type": "code", 
     "collapsed": false, 
     "input": [
      "#>>>Ex 3.4", 
      "#part 1", 
      "def do_twice(f):", 
      "    f()", 
      "    f()", 
      "", 
      "def print_spam():", 
      "    print 'spam'", 
      "", 
      "do_twice(print_spam)", 
      "", 
      "#part 2 and 3", 
      "def do_twice2(f,a):", 
      "    f(a)", 
      "    f(a)", 
      "", 
      "def print_specific_spam(a):", 
      "    print str(a)", 
      "", 
      "do_twice2(print_specific_spam,'hello')", 
      "", 
      "#part 4", 
      "do_twice2(print_specific_spam,'spam')", 
      "", 
      "#part 5", 
      "def do_four(f,a):", 
      "    do_twice2(f,a)", 
      "    do_twice2(f,a)", 
      "", 
      "do_four(print_specific_spam,'four')"
     ], 
     "language": "python", 
     "outputs": [
      {
       "output_type": "stream", 
       "stream": "stdout", 
       "text": [
        "spam", 
        "spam", 
        "hello", 
        "hello", 
        "spam", 
        "spam", 
        "four", 
        "four", 
        "four", 
        "four"
       ]
      }
     ], 
     "prompt_number": 20
    }, 
    {
     "cell_type": "code", 
     "collapsed": false, 
     "input": [
      "#>>>Ex 3.5 drawing the squares", 
      "def draw_type1():", 
      "    print '+ '+'- '*4+'+ '+'- '*4+'+'", 
      "    ", 
      "def draw_type2():", 
      "    print '| '+'  '*4+'| '+'  '*4+'|'", 
      "", 
      "def draw_squares():", 
      "    draw_type1()", 
      "    draw_type2()", 
      "    draw_type2()", 
      "    draw_type2()", 
      "    draw_type2()", 
      "    draw_type1()", 
      "    draw_type2()", 
      "    draw_type2()", 
      "    draw_type2()", 
      "    draw_type2()", 
      "    draw_type1()", 
      "    ", 
      "draw_squares()", 
      "    ", 
      "    "
     ], 
     "language": "python", 
     "outputs": [
      {
       "output_type": "stream", 
       "stream": "stdout", 
       "text": [
        "+ - - - - + - - - - +", 
        "|         |         |", 
        "|         |         |", 
        "|         |         |", 
        "|         |         |", 
        "+ - - - - + - - - - +", 
        "|         |         |", 
        "|         |         |", 
        "|         |         |", 
        "|         |         |", 
        "+ - - - - + - - - - +"
       ]
      }
     ], 
     "prompt_number": 23
    }, 
    {
     "cell_type": "code", 
     "collapsed": true, 
     "input": [], 
     "language": "python", 
     "outputs": [], 
     "prompt_number": "&nbsp;"
    }
   ]
  }
 ]
}