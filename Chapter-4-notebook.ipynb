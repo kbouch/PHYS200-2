{
 "metadata": {
  "name": "Chapter-4-notebook"
 }, 
 "nbformat": 2, 
 "worksheets": [
  {
   "cells": [
    {
     "cell_type": "code", 
     "collapsed": false, 
     "input": [
      "print 'I need to add swampy to the path'", 
      "from TurtleWorld import *"
     ], 
     "language": "python", 
     "outputs": [
      {
       "output_type": "stream", 
       "stream": "stdout", 
       "text": [
        "I need to add swampy to the path"
       ]
      }
     ], 
     "prompt_number": 4
    }, 
    {
     "cell_type": "code", 
     "collapsed": false, 
     "input": [
      "import sys", 
      "print sys.path", 
      "print \"Swampy doesn't appear in the path when I first start ipython notebook\""
     ], 
     "language": "python", 
     "outputs": [
      {
       "output_type": "stream", 
       "stream": "stdout", 
       "text": [
        "[&apos;&apos;, &apos;/home/kyle/Downloads/epd-7.2-2-rh5-x86/lib/python27.zip&apos;, &apos;/home/kyle/Downloads/epd-7.2-2-rh5-x86/lib/python2.7&apos;, &apos;/home/kyle/Downloads/epd-7.2-2-rh5-x86/lib/python2.7/plat-linux2&apos;, &apos;/home/kyle/Downloads/epd-7.2-2-rh5-x86/lib/python2.7/lib-tk&apos;, &apos;/home/kyle/Downloads/epd-7.2-2-rh5-x86/lib/python2.7/lib-old&apos;, &apos;/home/kyle/Downloads/epd-7.2-2-rh5-x86/lib/python2.7/lib-dynload&apos;, &apos;/home/kyle/Downloads/epd-7.2-2-rh5-x86/lib/python2.7/site-packages&apos;, &apos;/home/kyle/Downloads/epd-7.2-2-rh5-x86/lib/python2.7/site-packages/PIL&apos;, &apos;/home/kyle/Downloads/epd-7.2-2-rh5-x86/lib/python2.7/site-packages/IPython/extensions&apos;]"
       ]
      }
     ], 
     "prompt_number": 6
    }, 
    {
     "cell_type": "code", 
     "collapsed": false, 
     "input": [
      "sys.path.append('/home/kyle/Downloads/epd-7.2-2-rh5-x86/lib/python2.7/site-packages/swampy-2.0')", 
      "from TurtleWorld import *", 
      "world = TurtleWorld()", 
      "world.mainloop"
     ], 
     "language": "python", 
     "outputs": [
      {
       "output_type": "pyout", 
       "prompt_number": 3, 
       "text": [
        "&lt;bound method TurtleWorld.mainloop of &lt;TurtleWorld.TurtleWorld instance at 0x98ecccc&gt;&gt;"
       ]
      }
     ], 
     "prompt_number": 3
    }, 
    {
     "cell_type": "code", 
     "collapsed": false, 
     "input": [
      "print sys.path", 
      "print 'now the swampy-2.0 directory shows in the path'"
     ], 
     "language": "python", 
     "outputs": [
      {
       "output_type": "stream", 
       "stream": "stdout", 
       "text": [
        "[&apos;&apos;, &apos;/home/kyle/Downloads/epd-7.2-2-rh5-x86/lib/python27.zip&apos;, &apos;/home/kyle/Downloads/epd-7.2-2-rh5-x86/lib/python2.7&apos;, &apos;/home/kyle/Downloads/epd-7.2-2-rh5-x86/lib/python2.7/plat-linux2&apos;, &apos;/home/kyle/Downloads/epd-7.2-2-rh5-x86/lib/python2.7/lib-tk&apos;, &apos;/home/kyle/Downloads/epd-7.2-2-rh5-x86/lib/python2.7/lib-old&apos;, &apos;/home/kyle/Downloads/epd-7.2-2-rh5-x86/lib/python2.7/lib-dynload&apos;, &apos;/home/kyle/Downloads/epd-7.2-2-rh5-x86/lib/python2.7/site-packages&apos;, &apos;/home/kyle/Downloads/epd-7.2-2-rh5-x86/lib/python2.7/site-packages/PIL&apos;, &apos;/home/kyle/Downloads/epd-7.2-2-rh5-x86/lib/python2.7/site-packages/IPython/extensions&apos;, &apos;/home/kyle/Downloads/epd-7.2-2-rh5-x86/lib/python2.7/site-packages/swampy-2.0&apos;]"
       ]
      }
     ], 
     "prompt_number": 8
    }, 
    {
     "cell_type": "code", 
     "collapsed": false, 
     "input": [
      "# Begin Chapter 4 Work", 
      "world = TurtleWorld()", 
      "bob = Turtle()", 
      "print bob"
     ], 
     "language": "python", 
     "outputs": [
      {
       "output_type": "stream", 
       "stream": "stdout", 
       "text": [
        "&lt;TurtleWorld.Turtle object at 0x985da2c&gt;"
       ]
      }
     ], 
     "prompt_number": 9
    }, 
    {
     "cell_type": "code", 
     "collapsed": true, 
     "input": [], 
     "language": "python", 
     "outputs": [], 
     "prompt_number": "&nbsp;"
    }
   ]
  }
 ]
}